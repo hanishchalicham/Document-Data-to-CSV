{
  "nbformat": 4,
  "nbformat_minor": 0,
  "metadata": {
    "colab": {
      "provenance": []
    },
    "kernelspec": {
      "name": "python3",
      "display_name": "Python 3"
    },
    "language_info": {
      "name": "python"
    }
  },
  "cells": [
    {
      "cell_type": "code",
      "source": [
        "#use this if using colab or other compilers need files in drive\n",
        "from google.colab import drive\n",
        "drive.mount('/content/drive')\n"
      ],
      "metadata": {
        "id": "313fkjrr3A7V"
      },
      "execution_count": null,
      "outputs": []
    },
    {
      "cell_type": "code",
      "execution_count": null,
      "metadata": {
        "id": "Awp7Gw-z2moc"
      },
      "outputs": [],
      "source": [
        "# Import necessary libraries\n",
        "!pip install PyPDF2\n",
        "!pip install uszipcode\n",
        "import os\n",
        "from PyPDF2 import PdfReader\n",
        "import re\n",
        "import pandas as pd\n",
        "\n",
        "# Directory containing all your PDF files in a drive folder\n",
        "pdf_folder = '/content/drive/My Drive/new files/'\n",
        "\n",
        "# List all PDF files in the folder\n",
        "pdf_files = [f for f in os.listdir(pdf_folder) if f.endswith('.pdf')]\n",
        "\n",
        "# Initialize a list to store captured texts from all PDFs\n",
        "captured_texts_all_pdfs = []\n",
        "\n",
        "# Specify multiple start and end words for text extraction\n",
        "start_words = [\"Requested By\", \"Customer Name :\", \"Phone\", \"Cell\", \"FL Address :\", \"Work Dates\",\n",
        "               \"Description of Services Completed:\", \"Service Representative\"]\n",
        "end_words = [\"Phone\", \"FL\", \"Date Received\", \",\", \"Bill To\", \"Contract No.\", \"Recommendations/Comments\", \"Hours\"]\n",
        "\n",
        "# Initialize an empty DataFrame with the desired column names\n",
        "column_names = [\"Sl. No\", \"Contact Name\", \"Company\", \"Phone\", \"Cell\", \"Location\", \"Service Date\",\n",
        "                \"Description\", \"Service Representative\"]\n",
        "\n",
        "#intitialize a dataframe that contains your columns\n",
        "df = pd.DataFrame(columns=column_names)\n",
        "\n",
        "# Loop through each PDF file\n",
        "for serial_no, pdf_file in enumerate(pdf_files, start=1):\n",
        "    pdf_path = os.path.join(pdf_folder, pdf_file)\n",
        "    reader = PdfReader(pdf_path)\n",
        "\n",
        "    # Initialize text variable for this PDF file to store the text\n",
        "    text = \"\"\n",
        "\n",
        "    # Extract text from all pages and concatenate\n",
        "    for page in reader.pages:\n",
        "        text += page.extract_text()\n",
        "\n",
        "    # Initialize a dictionary to store captured text for this PDF\n",
        "    captured_texts = {column_name: \"\" for column_name in column_names}\n",
        "\n",
        "    # look for alternate key words for \"Description\" column\n",
        "    start_word = \"Description of Services Completed:\"\n",
        "    end_word = \"Recommendations/Comments\"\n",
        "\n",
        "    start_index = text.find(start_word)\n",
        "    end_index = text.find(end_word)\n",
        "\n",
        "    # If initial start and end words are not found, use alternate words\n",
        "    if start_index == -1 or end_index == -1:\n",
        "        start_word = \"Work Description/ Customer Benefits/ Recommendations\"\n",
        "        end_word = \"System Restored Date\"\n",
        "        start_index = text.find(start_word)\n",
        "        end_index = text.find(end_word)\n",
        "\n",
        "\n",
        "    if start_index != -1 and end_index != -1:\n",
        "        captured_text = text[start_index + len(start_word):end_index].strip()\n",
        "        # Remove newline characters from the captured text using regular expression\n",
        "        captured_text = re.sub(r'\\n', ' ', captured_text)\n",
        "        # Store the captured text in the dictionary\n",
        "        captured_texts[\"Description\"] = captured_text\n",
        "\n",
        "\n",
        "    # Loop through each pair of start and end words (excluding \"Description\")\n",
        "    for start_word, end_word, column_name in zip(start_words, end_words, column_names[1:]):  # Exclude \"Serial No.\"\n",
        "        index = 0\n",
        "        while True:\n",
        "            start_index = text.find(start_word, index)\n",
        "            end_index = text.find(end_word, index)\n",
        "\n",
        "            if start_index != -1 and end_index != -1:\n",
        "                captured_text = text[start_index + len(start_word):end_index].strip()\n",
        "                # Remove newline characters from the captured text using regular expression\n",
        "                captured_text = re.sub(r'\\n', ' ', captured_text)\n",
        "                # Store the captured text in the dictionary\n",
        "                captured_texts[column_name] = captured_text\n",
        "                index = end_index + len(end_word)\n",
        "            else:\n",
        "                break\n",
        "\n",
        "    # Add the Serial No. to the dictionary\n",
        "    captured_texts[\"Sl. No\"] = serial_no\n",
        "\n",
        "    # Append the captured texts for this PDF to the list for all PDFs\n",
        "    captured_texts_all_pdfs.append(captured_texts)\n",
        "\n",
        "# Convert the list of dictionaries to a DataFrame\n",
        "df = pd.DataFrame(captured_texts_all_pdfs)\n"
      ]
    },
    {
      "cell_type": "code",
      "source": [
        "df"
      ],
      "metadata": {
        "id": "tE06iFbdpceu"
      },
      "execution_count": null,
      "outputs": []
    },
    {
      "cell_type": "code",
      "source": [
        "from uszipcode import SearchEngine\n",
        "\n",
        "# Create a search engine instance\n",
        "search = SearchEngine()\n",
        "\n",
        "# Define a range of possible ZIP codes (adjust as needed)\n",
        "start_zipcode = \"00000\"\n",
        "end_zipcode = \"99999\"\n",
        "\n",
        "# Generate a list of valid ZIP codes within the specified range\n",
        "valid_zipcodes = [str(zipcode) for zipcode in range(int(start_zipcode), int(end_zipcode) + 1)]\n",
        "\n",
        "# Also generate a list of valid 5-digit ZIP codes without the area code\n",
        "valid_zipcodes_without_area_code = [zipcode[:-4] for zipcode in valid_zipcodes]\n",
        "\n",
        "# Combine both lists of valid ZIP codes\n",
        "valid_zipcodes += valid_zipcodes_without_area_code\n",
        "\n",
        "# Remove duplicates by converting the list to a set and back to a list\n",
        "valid_zipcodes = list(set(valid_zipcodes))\n",
        "\n",
        "# Function to extract and standardize location based on ZIP code\n",
        "def extract_location(location):\n",
        "    # Check if the location ends with a pattern like \"-nnnn\"\n",
        "    if re.search(r'-\\d{4}$', location):\n",
        "        # If the pattern is found, remove it\n",
        "        location = re.sub(r'-\\d{4}$', '', location)\n",
        "\n",
        "    # Iterate through valid ZIP codes\n",
        "    for zipcode in valid_zipcodes:\n",
        "        if location.endswith(zipcode):\n",
        "            # Attempt to lookup ZIP code information\n",
        "            zipcode_info = search.by_zipcode(zipcode)\n",
        "\n",
        "            # Check if the lookup was successful and contains valid information\n",
        "            if zipcode_info and zipcode_info.major_city and zipcode_info.state:\n",
        "                return f\"{zipcode_info.major_city}, {zipcode_info.state} {zipcode}\"\n",
        "\n",
        "    # If no matching ZIP code is found or the lookup fails, return the location as is\n",
        "    return location\n",
        "\n",
        "# Apply the extract_location function to the \"Location\" column\n",
        "df[\"Location\"] = df[\"Location\"].apply(extract_location)\n"
      ],
      "metadata": {
        "colab": {
          "base_uri": "https://localhost:8080/"
        },
        "id": "CoCTsflUsGLa",
        "outputId": "05047fb1-4ca0-4116-d04a-369ebc66bc42"
      },
      "execution_count": null,
      "outputs": [
        {
          "output_type": "stream",
          "name": "stderr",
          "text": [
            "Exception ignored in: <function SearchEngine.__del__ at 0x7de3c69ffc70>\n",
            "Traceback (most recent call last):\n",
            "  File \"/usr/local/lib/python3.10/dist-packages/uszipcode/search.py\", line 196, in __del__\n",
            "  File \"/usr/local/lib/python3.10/dist-packages/uszipcode/search.py\", line 202, in close\n",
            "  File \"/usr/local/lib/python3.10/dist-packages/sqlalchemy/orm/session.py\", line 1816, in close\n",
            "  File \"/usr/local/lib/python3.10/dist-packages/sqlalchemy/orm/session.py\", line 1858, in _close_impl\n",
            "  File \"/usr/local/lib/python3.10/dist-packages/sqlalchemy/orm/session.py\", line 926, in close\n",
            "  File \"/usr/local/lib/python3.10/dist-packages/sqlalchemy/engine/base.py\", line 2426, in close\n",
            "  File \"/usr/local/lib/python3.10/dist-packages/sqlalchemy/engine/base.py\", line 2649, in _do_close\n",
            "  File \"/usr/local/lib/python3.10/dist-packages/sqlalchemy/engine/base.py\", line 2635, in _close_impl\n",
            "  File \"/usr/local/lib/python3.10/dist-packages/sqlalchemy/engine/base.py\", line 2627, in _connection_rollback_impl\n",
            "  File \"/usr/local/lib/python3.10/dist-packages/sqlalchemy/engine/base.py\", line 1064, in _rollback_impl\n",
            "  File \"/usr/local/lib/python3.10/dist-packages/sqlalchemy/engine/base.py\", line 2134, in _handle_dbapi_exception\n",
            "  File \"/usr/local/lib/python3.10/dist-packages/sqlalchemy/util/compat.py\", line 211, in raise_\n",
            "  File \"/usr/local/lib/python3.10/dist-packages/sqlalchemy/engine/base.py\", line 1062, in _rollback_impl\n",
            "  File \"/usr/local/lib/python3.10/dist-packages/sqlalchemy/engine/default.py\", line 683, in do_rollback\n",
            "sqlalchemy.exc.ProgrammingError: (sqlite3.ProgrammingError) SQLite objects created in a thread can only be used in that same thread. The object was created in thread id 138418597117952 and this is thread id 138417773999680.\n",
            "(Background on this error at: https://sqlalche.me/e/14/f405)\n"
          ]
        }
      ]
    },
    {
      "cell_type": "code",
      "source": [
        "df"
      ],
      "metadata": {
        "id": "x3A2-hAAsLF-"
      },
      "execution_count": null,
      "outputs": []
    },
    {
      "cell_type": "code",
      "source": [
        "# Convert 'Contact Name' to title case (capitalize first letter of each word)\n",
        "df['Contact Name'] = df['Contact Name'].str.title()\n",
        "\n",
        "# Convert 'Company' to uppercase\n",
        "df['Company'] = df['Company'].str.upper()\n",
        "\n",
        "# Assuming the phone numbers are initially in different formats:\n",
        "# 1. Remove all non-numeric characters from 'Phone'\n",
        "# 2. Format 'Phone' as XXX-XXX-XXXX\n",
        "df['Phone'] = df['Phone'].str.replace(r'[^0-9]', '', regex=True)\n",
        "df['Phone'] = df['Phone'].str.replace(r'(\\d{3})(\\d{3})(\\d{4})', r'\\1-\\2-\\3', regex=True)\n",
        "\n",
        "# Remove trailing special characters from the 'Description' column\n",
        "df['Description'] = df['Description'].str.rstrip('[^a-zA-Z0-9\\s]')\n",
        "\n",
        "# Remove all numerical content from the 'FL Address' (Location) column\n",
        "df['Location'] = df['Location'].str.replace(r'[^a-zA-Z\\s]', '', regex=True)\n",
        "\n",
        "# Remove non-alphanumeric characters from 'Service Representative'\n",
        "df['Service Representative'] = df['Service Representative'].str.replace(r'[^a-zA-Z0-9\\s]', '', regex=True)\n"
      ],
      "metadata": {
        "id": "ASNThhHK3Yw_"
      },
      "execution_count": null,
      "outputs": []
    },
    {
      "cell_type": "code",
      "source": [
        "df"
      ],
      "metadata": {
        "id": "Hffar94cm97F"
      },
      "execution_count": null,
      "outputs": []
    },
    {
      "cell_type": "code",
      "source": [
        "df.to_csv('siemensreportforseptmber.csv', index=False)"
      ],
      "metadata": {
        "id": "ZyO3x5GKFCbV"
      },
      "execution_count": null,
      "outputs": []
    }
  ]
}